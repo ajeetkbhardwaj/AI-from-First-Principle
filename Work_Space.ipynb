{
  "nbformat": 4,
  "nbformat_minor": 0,
  "metadata": {
    "colab": {
      "provenance": [],
      "mount_file_id": "1CDkmKSZ7Y8mSdIyQwq-aNT-9U-EEZ1WE",
      "authorship_tag": "ABX9TyPJ6TPkDSFUMgccjc0hXZqq",
      "include_colab_link": true
    },
    "kernelspec": {
      "name": "python3",
      "display_name": "Python 3"
    },
    "language_info": {
      "name": "python"
    }
  },
  "cells": [
    {
      "cell_type": "markdown",
      "metadata": {
        "id": "view-in-github",
        "colab_type": "text"
      },
      "source": [
        "<a href=\"https://colab.research.google.com/github/ajeetkbhardwaj/AI-from-First-Principle/blob/main/Work_Space.ipynb\" target=\"_parent\"><img src=\"https://colab.research.google.com/assets/colab-badge.svg\" alt=\"Open In Colab\"/></a>"
      ]
    },
    {
      "cell_type": "markdown",
      "source": [
        "## Step-0"
      ],
      "metadata": {
        "id": "WyN5hm7Bf8zm"
      }
    },
    {
      "cell_type": "code",
      "source": [],
      "metadata": {
        "id": "shlJXhj5f8in"
      },
      "execution_count": null,
      "outputs": []
    },
    {
      "cell_type": "code",
      "execution_count": 1,
      "metadata": {
        "colab": {
          "base_uri": "https://localhost:8080/"
        },
        "id": "G9d87MjTfK3L",
        "outputId": "c93eb40f-8d28-4d70-ba3e-ebb8d86b78f8"
      },
      "outputs": [
        {
          "output_type": "stream",
          "name": "stdout",
          "text": [
            "drive  sample_data\n"
          ]
        }
      ],
      "source": [
        "!dir"
      ]
    },
    {
      "cell_type": "code",
      "source": [
        "%cd \"/content/drive/MyDrive/Colab Notebooks\""
      ],
      "metadata": {
        "colab": {
          "base_uri": "https://localhost:8080/"
        },
        "id": "oYZd5uM0fX61",
        "outputId": "9f55addf-826c-4017-b3c9-18bf11ef87fa"
      },
      "execution_count": 9,
      "outputs": [
        {
          "output_type": "stream",
          "name": "stdout",
          "text": [
            "/content/drive/MyDrive/Colab Notebooks\n"
          ]
        }
      ]
    },
    {
      "cell_type": "code",
      "source": [
        "!dir"
      ],
      "metadata": {
        "colab": {
          "base_uri": "https://localhost:8080/"
        },
        "id": "8J-hAMeufdkS",
        "outputId": "92d5ba76-914f-450e-f167-7451d15c1f89"
      },
      "execution_count": 10,
      "outputs": [
        {
          "output_type": "stream",
          "name": "stdout",
          "text": [
            "Colab-100\\ Image\\ Classification\\ with\\ TensorFlow\\ Lite.ipynb\n",
            "Copy\\ of\\ advanced_outputs.ipynb\n",
            "Copy\\ of\\ colab_starter\\ (1).ipynb\n",
            "Copy\\ of\\ colab_starter.ipynb\n",
            "Copy\\ of\\ RNN_tutorial\\ with\\ solutions.ipynb\n",
            "Work-Space.ipynb\n"
          ]
        }
      ]
    },
    {
      "cell_type": "markdown",
      "source": [
        "## Step-1"
      ],
      "metadata": {
        "id": "-jIWfKkkf_7r"
      }
    },
    {
      "cell_type": "code",
      "source": [
        "!git clone https://github.com/DS-4-DS/DS4DS_Course.git"
      ],
      "metadata": {
        "colab": {
          "base_uri": "https://localhost:8080/"
        },
        "id": "u19i31wcftJX",
        "outputId": "fa763f87-9dba-4708-f9cf-afe605964bd1"
      },
      "execution_count": 11,
      "outputs": [
        {
          "output_type": "stream",
          "name": "stdout",
          "text": [
            "Cloning into 'DS4DS_Course'...\n",
            "remote: Enumerating objects: 393, done.\u001b[K\n",
            "remote: Counting objects: 100% (39/39), done.\u001b[K\n",
            "remote: Compressing objects: 100% (34/34), done.\u001b[K\n",
            "remote: Total 393 (delta 15), reused 11 (delta 5), pack-reused 354 (from 1)\u001b[K\n",
            "Receiving objects: 100% (393/393), 236.02 MiB | 12.97 MiB/s, done.\n",
            "Resolving deltas: 100% (133/133), done.\n",
            "Updating files: 100% (40/40), done.\n"
          ]
        }
      ]
    },
    {
      "cell_type": "code",
      "source": [
        "!git clone https://github.com/lunayht/AI504.git"
      ],
      "metadata": {
        "colab": {
          "base_uri": "https://localhost:8080/"
        },
        "id": "ihlMXsscgGYI",
        "outputId": "2a30a673-6d09-4ca2-bc53-153adc8e7ecd"
      },
      "execution_count": 12,
      "outputs": [
        {
          "output_type": "stream",
          "name": "stdout",
          "text": [
            "Cloning into 'AI504'...\n",
            "remote: Enumerating objects: 266, done.\u001b[K\n",
            "remote: Counting objects: 100% (39/39), done.\u001b[K\n",
            "remote: Compressing objects: 100% (29/29), done.\u001b[K\n",
            "remote: Total 266 (delta 17), reused 31 (delta 10), pack-reused 227 (from 1)\u001b[K\n",
            "Receiving objects: 100% (266/266), 153.40 MiB | 12.18 MiB/s, done.\n",
            "Resolving deltas: 100% (136/136), done.\n",
            "Updating files: 100% (43/43), done.\n"
          ]
        }
      ]
    },
    {
      "cell_type": "code",
      "source": [],
      "metadata": {
        "id": "iJ1Fkw9DiNVp"
      },
      "execution_count": null,
      "outputs": []
    },
    {
      "cell_type": "markdown",
      "source": [
        "## Step-Last : Resources Reference\n",
        "[1]. https://mp2893.com/course.html"
      ],
      "metadata": {
        "id": "ZXuje51EizXg"
      }
    }
  ]
}