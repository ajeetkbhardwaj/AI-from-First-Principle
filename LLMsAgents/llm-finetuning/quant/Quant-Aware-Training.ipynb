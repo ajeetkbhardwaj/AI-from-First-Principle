{
 "cells": [
  {
   "cell_type": "code",
   "execution_count": 1,
   "id": "a2f74ab8",
   "metadata": {},
   "outputs": [],
   "source": [
    "import torch\n",
    "import torch.nn as nn\n",
    "import os\n",
    "import matplotlib.pyplot as plt\n",
    "\n",
    "from torchvision import datasets\n",
    "from torchvision import transforms\n",
    "from tqdm import tqdm\n",
    "from pathlib import Path\n"
   ]
  },
  {
   "cell_type": "code",
   "execution_count": 3,
   "id": "5ef0bb10",
   "metadata": {},
   "outputs": [
    {
     "name": "stdout",
     "output_type": "stream",
     "text": [
      "cpu\n"
     ]
    }
   ],
   "source": [
    "# making torch to be deterministic\n",
    "_ = torch.manual_seed(0)\n",
    "\n",
    "# data transformation\n",
    "transform = transforms.Compose([\n",
    "    transforms.ToTensor(),\n",
    "    transforms.Normalize((0.1307,), (0.3081,))\n",
    "])\n",
    "\n",
    "# loading mnist dataset\n",
    "train_data = datasets.MNIST(root='./data', train=True, download=True, transform=transform)\n",
    "train_loader = torch.utils.data.DataLoader(train_data, batch_size=10, shuffle=True)\n",
    "test_data = datasets.MNIST(root='./data', train=False, download=True, transform=transform)\n",
    "test_loader = torch.utils.data.DataLoader(train_data, batch_size=10, shuffle=True)\n",
    "\n",
    "# define device \n",
    "device = torch.device(\"cpu\" if torch.cuda.is_available() else \"cpu\")\n",
    "print(device)"
   ]
  },
  {
   "cell_type": "code",
   "execution_count": 4,
   "id": "7252bbad",
   "metadata": {},
   "outputs": [],
   "source": [
    "# Define our Deep Neural Network\n",
    "class DeepNeuralNetwork(nn.Module):\n",
    "    def __init__(self, hide_size1=100, hide_size2=100):\n",
    "        super(DeepNeuralNetwork, self).__init__()\n",
    "        self.linear1 = nn.Linear(28*28, hide_size1) \n",
    "        self.linear2 = nn.Linear(hide_size1, hide_size2) \n",
    "        self.linear3 = nn.Linear(hide_size2, 10)\n",
    "        self.relu = nn.ReLU()\n",
    "\n",
    "    def forward(self, img):\n",
    "        x = img.view(-1, 28*28)\n",
    "        x = self.relu(self.linear1(x))\n",
    "        x = self.relu(self.linear2(x))\n",
    "        x = self.linear3(x)\n",
    "        return x\n",
    "    \n",
    "model = DeepNeuralNetwork().to(device)"
   ]
  },
  {
   "cell_type": "code",
   "execution_count": null,
   "id": "3ce3f65f",
   "metadata": {},
   "outputs": [
    {
     "name": "stderr",
     "output_type": "stream",
     "text": [
      "Epoch 1: 100%|██████████| 6000/6000 [00:11<00:00, 541.63it/s, loss=0.223]\n"
     ]
    }
   ],
   "source": [
    "def train(train_loader, model, epochs=5, max_iter=None):\n",
    "    entropy = nn.CrossEntropyLoss()\n",
    "    optimizer = torch.optim.Adam(model.parameters(), lr=0.001)\n",
    "\n",
    "    total_iter = 0\n",
    "    for epoch in range(epochs):\n",
    "        model.train()\n",
    "\n",
    "        total_loss = 0\n",
    "        num_iter = 0\n",
    "\n",
    "        data_iter = tqdm(train_loader, desc=f'Epoch {epoch+1}')\n",
    "        if max_iter is not None:\n",
    "            data_iter.total = max_iter\n",
    "\n",
    "        for data in data_iter:\n",
    "            num_iter += 1\n",
    "            total_iter += 1\n",
    "            X, y = data\n",
    "            X = X.to(device)\n",
    "            y = y.to(device)\n",
    "\n",
    "            optimizer.zero_grad()\n",
    "            output = model(X.view(-1, 28*28))\n",
    "            loss = entropy(output, y)\n",
    "            total_loss += loss.item()\n",
    "            avg_loss = total_loss / num_iter\n",
    "            data_iter.set_postfix(loss=avg_loss)\n",
    "\n",
    "            loss.backward()\n",
    "            optimizer.step()\n",
    "\n",
    "            if max_iter is not None and total_iter >= max_iter:\n",
    "                return\n",
    "            \n",
    "\n",
    "\n",
    "def ModelSize(model):\n",
    "    torch.save(model.state_dict(), \"temp_model.p\")\n",
    "    print(f\"Model Size(KB): {os.path.getsize('temp_model.p')/1e3}\")\n",
    "    os.remove('temp_model.p')"
   ]
  },
  {
   "cell_type": "code",
   "execution_count": 13,
   "id": "c1833441",
   "metadata": {},
   "outputs": [
    {
     "name": "stdout",
     "output_type": "stream",
     "text": [
      "Model size before quantization\n",
      "Model Size(KB): 361.401\n"
     ]
    }
   ],
   "source": [
    "print(f'Model size before quantization')\n",
    "ModelSize(model)"
   ]
  },
  {
   "cell_type": "code",
   "execution_count": 11,
   "id": "89938ade",
   "metadata": {},
   "outputs": [
    {
     "name": "stdout",
     "output_type": "stream",
     "text": [
      "Loaded model from disk\n"
     ]
    }
   ],
   "source": [
    "MODEL_FILENAME = 'dnn_model.pt'\n",
    "\n",
    "if Path(MODEL_FILENAME).exists():\n",
    "    model.load_state_dict(torch.load(MODEL_FILENAME))\n",
    "    print('Loaded model from disk')\n",
    "else:\n",
    "    train(train_loader, model, epochs=1)\n",
    "    # Save the model to disk\n",
    "    torch.save(model.state_dict(), MODEL_FILENAME)"
   ]
  },
  {
   "cell_type": "code",
   "execution_count": 15,
   "id": "8081aeed",
   "metadata": {},
   "outputs": [
    {
     "name": "stdout",
     "output_type": "stream",
     "text": [
      "Model accuracy before quantization\n"
     ]
    },
    {
     "name": "stderr",
     "output_type": "stream",
     "text": [
      "Inference Testing: 100%|██████████| 6000/6000 [00:05<00:00, 1170.68it/s]"
     ]
    },
    {
     "name": "stdout",
     "output_type": "stream",
     "text": [
      "Model accuracy : 0.966\n"
     ]
    },
    {
     "name": "stderr",
     "output_type": "stream",
     "text": [
      "\n"
     ]
    }
   ],
   "source": [
    "# inference testing\n",
    "def test(model: nn.Module, total_iter: int = None):\n",
    "    correct = 0\n",
    "    total = 0\n",
    "    iter = 0\n",
    "\n",
    "    model.eval()\n",
    "\n",
    "    with torch.no_grad():\n",
    "        for data in tqdm(test_loader, desc=\"Inference Testing\"):\n",
    "            X, y = data\n",
    "            X = X.to(device)\n",
    "            y = y.to(device)\n",
    "            output = model(X.view(-1, 28*28))\n",
    "            for idx, i in enumerate(output):\n",
    "                if torch.argmax(i) == y[idx]:\n",
    "                    correct += 1\n",
    "                total += 1\n",
    "            iter += 1\n",
    "\n",
    "            if total_iter is not None and iter >= total_iter:\n",
    "                break\n",
    "    print(f\"Model accuracy : {round(correct / total, 3)}\")\n",
    "            \n",
    "print(f\"Model accuracy before quantization\")\n",
    "test(model=model)"
   ]
  },
  {
   "cell_type": "code",
   "execution_count": 17,
   "id": "41203664",
   "metadata": {},
   "outputs": [
    {
     "name": "stdout",
     "output_type": "stream",
     "text": [
      "Model parameter matrix and its data type before quantization\n",
      "Parameter containing:\n",
      "tensor([[ 0.0056,  0.0250, -0.0236,  ...,  0.0278,  0.0096,  0.0079],\n",
      "        [-0.0159, -0.0111, -0.0066,  ..., -0.0164, -0.0021, -0.0261],\n",
      "        [ 0.0232,  0.0583,  0.0101,  ...,  0.0230,  0.0445,  0.0514],\n",
      "        ...,\n",
      "        [ 0.0584,  0.0621,  0.0275,  ...,  0.0221,  0.0414,  0.0044],\n",
      "        [ 0.0020,  0.0101,  0.0421,  ...,  0.0224,  0.0225,  0.0220],\n",
      "        [ 0.0082,  0.0029, -0.0113,  ...,  0.0251, -0.0242, -0.0040]],\n",
      "       requires_grad=True)\n",
      "torch.float32\n"
     ]
    }
   ],
   "source": [
    "print(f\"Model parameter matrix and its data type before quantization\")\n",
    "print(model.linear1.weight)\n",
    "print(model.linear1.weight.dtype)"
   ]
  },
  {
   "cell_type": "markdown",
   "id": "781e7fd9",
   "metadata": {},
   "source": [
    "## Post Training Quantization\n"
   ]
  },
  {
   "cell_type": "code",
   "execution_count": 19,
   "id": "4f6a8865",
   "metadata": {},
   "outputs": [],
   "source": [
    "# Define our Deep Neural Network\n",
    "class QuantDeepNeuralNetwork(nn.Module):\n",
    "    def __init__(self, hide_size1=100, hide_size2=100):\n",
    "        super(QuantDeepNeuralNetwork, self).__init__()\n",
    "        self.quant = torch.quantization.QuantStub()\n",
    "        self.linear1 = nn.Linear(28*28, hide_size1) \n",
    "        self.linear2 = nn.Linear(hide_size1, hide_size2) \n",
    "        self.linear3 = nn.Linear(hide_size2, 10)\n",
    "        self.relu = nn.ReLU()\n",
    "        self.dequant = torch.quantization.DeQuantStub()\n",
    "\n",
    "    def forward(self, img):\n",
    "        x = img.view(-1, 28*28)\n",
    "        x = self.quant(x)\n",
    "        x = self.relu(self.linear1(x))\n",
    "        x = self.relu(self.linear2(x))\n",
    "        x = self.linear3(x)\n",
    "        x = self.dequant(x)\n",
    "        return x\n",
    "    \n",
    "model = QuantDeepNeuralNetwork().to(device)"
   ]
  },
  {
   "cell_type": "code",
   "execution_count": null,
   "id": "d01bf0e1",
   "metadata": {},
   "outputs": [],
   "source": []
  },
  {
   "cell_type": "code",
   "execution_count": 26,
   "id": "b3097cba",
   "metadata": {},
   "outputs": [
    {
     "data": {
      "text/plain": [
       "QuantDeepNeuralNetwork(\n",
       "  (quant): QuantStub()\n",
       "  (linear1): Linear(in_features=784, out_features=100, bias=True)\n",
       "  (linear2): Linear(in_features=100, out_features=100, bias=True)\n",
       "  (linear3): Linear(in_features=100, out_features=10, bias=True)\n",
       "  (relu): ReLU()\n",
       "  (dequant): DeQuantStub()\n",
       ")"
      ]
     },
     "execution_count": 26,
     "metadata": {},
     "output_type": "execute_result"
    }
   ],
   "source": [
    "# quantized model architecture\n",
    "quant_model =QuantDeepNeuralNetwork().to(device)\n",
    "# copy the unquantized model weights to the quantized model architecture\n",
    "quant_model.load_state_dict(model.state_dict())\n",
    "quant_model.eval()\n",
    "\n"
   ]
  },
  {
   "cell_type": "code",
   "execution_count": 27,
   "id": "5e93e215",
   "metadata": {},
   "outputs": [
    {
     "name": "stderr",
     "output_type": "stream",
     "text": [
      "/tmp/ipykernel_1989099/2164771272.py:2: DeprecationWarning: torch.ao.quantization is deprecated and will be removed in 2.10. \n",
      "For migrations of users: \n",
      "1. Eager mode quantization (torch.ao.quantization.quantize, torch.ao.quantization.quantize_dynamic), please migrate to use torchao eager mode quantize_ API instead \n",
      "2. FX graph mode quantization (torch.ao.quantization.quantize_fx.prepare_fx,torch.ao.quantization.quantize_fx.convert_fx, please migrate to use torchao pt2e quantization API instead (prepare_pt2e, convert_pt2e) \n",
      "3. pt2e quantization has been migrated to torchao (https://github.com/pytorch/ao/tree/main/torchao/quantization/pt2e) \n",
      "see https://github.com/pytorch/ao/issues/2259 for more details\n",
      "  quant_model = torch.ao.quantization.prepare(quant_model) # Insert observers\n"
     ]
    },
    {
     "data": {
      "text/plain": [
       "QuantDeepNeuralNetwork(\n",
       "  (quant): QuantStub(\n",
       "    (activation_post_process): MinMaxObserver(min_val=inf, max_val=-inf)\n",
       "  )\n",
       "  (linear1): Linear(\n",
       "    in_features=784, out_features=100, bias=True\n",
       "    (activation_post_process): MinMaxObserver(min_val=inf, max_val=-inf)\n",
       "  )\n",
       "  (linear2): Linear(\n",
       "    in_features=100, out_features=100, bias=True\n",
       "    (activation_post_process): MinMaxObserver(min_val=inf, max_val=-inf)\n",
       "  )\n",
       "  (linear3): Linear(\n",
       "    in_features=100, out_features=10, bias=True\n",
       "    (activation_post_process): MinMaxObserver(min_val=inf, max_val=-inf)\n",
       "  )\n",
       "  (relu): ReLU()\n",
       "  (dequant): DeQuantStub()\n",
       ")"
      ]
     },
     "execution_count": 27,
     "metadata": {},
     "output_type": "execute_result"
    }
   ],
   "source": [
    "quant_model.qconfig = torch.ao.quantization.default_qconfig\n",
    "quant_model = torch.ao.quantization.prepare(quant_model) # Insert observers\n",
    "quant_model"
   ]
  },
  {
   "cell_type": "code",
   "execution_count": 28,
   "id": "7e20a145",
   "metadata": {},
   "outputs": [
    {
     "name": "stderr",
     "output_type": "stream",
     "text": [
      "Inference Testing: 100%|██████████| 6000/6000 [00:04<00:00, 1275.99it/s]"
     ]
    },
    {
     "name": "stdout",
     "output_type": "stream",
     "text": [
      "Model accuracy : 0.098\n"
     ]
    },
    {
     "name": "stderr",
     "output_type": "stream",
     "text": [
      "\n"
     ]
    }
   ],
   "source": [
    "# test the quantized model on testing dataset\n",
    "test(quant_model)"
   ]
  },
  {
   "cell_type": "code",
   "execution_count": 29,
   "id": "a7c265ca",
   "metadata": {},
   "outputs": [
    {
     "name": "stdout",
     "output_type": "stream",
     "text": [
      "Statistics of Layers of DNNs\n"
     ]
    },
    {
     "data": {
      "text/plain": [
       "QuantDeepNeuralNetwork(\n",
       "  (quant): QuantStub(\n",
       "    (activation_post_process): MinMaxObserver(min_val=-0.4242129623889923, max_val=2.821486711502075)\n",
       "  )\n",
       "  (linear1): Linear(\n",
       "    in_features=784, out_features=100, bias=True\n",
       "    (activation_post_process): MinMaxObserver(min_val=-2.877210855484009, max_val=3.229513168334961)\n",
       "  )\n",
       "  (linear2): Linear(\n",
       "    in_features=100, out_features=100, bias=True\n",
       "    (activation_post_process): MinMaxObserver(min_val=-1.4892805814743042, max_val=1.450798511505127)\n",
       "  )\n",
       "  (linear3): Linear(\n",
       "    in_features=100, out_features=10, bias=True\n",
       "    (activation_post_process): MinMaxObserver(min_val=-0.4211212396621704, max_val=0.6218735575675964)\n",
       "  )\n",
       "  (relu): ReLU()\n",
       "  (dequant): DeQuantStub()\n",
       ")"
      ]
     },
     "execution_count": 29,
     "metadata": {},
     "output_type": "execute_result"
    }
   ],
   "source": [
    "print(f\"Statistics of Layers of DNNs\")\n",
    "quant_model"
   ]
  },
  {
   "cell_type": "code",
   "execution_count": 30,
   "id": "1932e70c",
   "metadata": {},
   "outputs": [
    {
     "name": "stdout",
     "output_type": "stream",
     "text": [
      "Statistics of Layers of DNN\n"
     ]
    },
    {
     "name": "stderr",
     "output_type": "stream",
     "text": [
      "/tmp/ipykernel_1989099/3554948389.py:2: DeprecationWarning: torch.ao.quantization is deprecated and will be removed in 2.10. \n",
      "For migrations of users: \n",
      "1. Eager mode quantization (torch.ao.quantization.quantize, torch.ao.quantization.quantize_dynamic), please migrate to use torchao eager mode quantize_ API instead \n",
      "2. FX graph mode quantization (torch.ao.quantization.quantize_fx.prepare_fx,torch.ao.quantization.quantize_fx.convert_fx, please migrate to use torchao pt2e quantization API instead (prepare_pt2e, convert_pt2e) \n",
      "3. pt2e quantization has been migrated to torchao (https://github.com/pytorch/ao/tree/main/torchao/quantization/pt2e) \n",
      "see https://github.com/pytorch/ao/issues/2259 for more details\n",
      "  quant_model = torch.ao.quantization.convert(quant_model)\n"
     ]
    },
    {
     "data": {
      "text/plain": [
       "QuantDeepNeuralNetwork(\n",
       "  (quant): Quantize(scale=tensor([0.0256]), zero_point=tensor([17]), dtype=torch.quint8)\n",
       "  (linear1): QuantizedLinear(in_features=784, out_features=100, scale=0.04808443784713745, zero_point=60, qscheme=torch.per_tensor_affine)\n",
       "  (linear2): QuantizedLinear(in_features=100, out_features=100, scale=0.023150229826569557, zero_point=64, qscheme=torch.per_tensor_affine)\n",
       "  (linear3): QuantizedLinear(in_features=100, out_features=10, scale=0.008212557062506676, zero_point=51, qscheme=torch.per_tensor_affine)\n",
       "  (relu): ReLU()\n",
       "  (dequant): DeQuantize()\n",
       ")"
      ]
     },
     "execution_count": 30,
     "metadata": {},
     "output_type": "execute_result"
    }
   ],
   "source": [
    "# quantized model using that statistics we collected \n",
    "quant_model = torch.ao.quantization.convert(quant_model)\n",
    "print(f\"Statistics of Layers of DNN\")\n",
    "quant_model"
   ]
  },
  {
   "cell_type": "code",
   "execution_count": 31,
   "id": "118b0eda",
   "metadata": {},
   "outputs": [
    {
     "name": "stdout",
     "output_type": "stream",
     "text": [
      "Weights in between layes of quantized model\n",
      "tensor([[ -78,  -45,   72,  ...,  -79,  -20,  -34],\n",
      "        [  23,  -23,  -64,  ...,   73,  -27,  117],\n",
      "        [ 118, -122,  -95,  ...,   94,   29,  111],\n",
      "        ...,\n",
      "        [  -4,  -73,   84,  ...,  -17, -110,  -55],\n",
      "        [  71,  -47,  -68,  ...,  -19,  -11,   47],\n",
      "        [  85,   91,  -85,  ...,  121,   11,   -4]], dtype=torch.int8)\n"
     ]
    }
   ],
   "source": [
    "# weights of quantized model\n",
    "print(f\"Weights in between layes of quantized model\")\n",
    "print(torch.int_repr(quant_model.linear1.weight()))"
   ]
  },
  {
   "cell_type": "code",
   "execution_count": 32,
   "id": "a0878780",
   "metadata": {},
   "outputs": [
    {
     "name": "stdout",
     "output_type": "stream",
     "text": [
      "Original weights: \n",
      "Parameter containing:\n",
      "tensor([[-0.0218, -0.0126,  0.0202,  ..., -0.0222, -0.0057, -0.0095],\n",
      "        [ 0.0065, -0.0066, -0.0178,  ...,  0.0203, -0.0076,  0.0329],\n",
      "        [ 0.0332, -0.0341, -0.0266,  ...,  0.0263,  0.0081,  0.0312],\n",
      "        ...,\n",
      "        [-0.0011, -0.0205,  0.0235,  ..., -0.0048, -0.0308, -0.0155],\n",
      "        [ 0.0200, -0.0131, -0.0190,  ..., -0.0054, -0.0030,  0.0132],\n",
      "        [ 0.0237,  0.0254, -0.0239,  ...,  0.0339,  0.0030, -0.0011]],\n",
      "       requires_grad=True)\n",
      "\n",
      "Dequantized weights: \n",
      "tensor([[-0.0218, -0.0126,  0.0202,  ..., -0.0221, -0.0056, -0.0095],\n",
      "        [ 0.0064, -0.0064, -0.0179,  ...,  0.0204, -0.0076,  0.0328],\n",
      "        [ 0.0331, -0.0342, -0.0266,  ...,  0.0263,  0.0081,  0.0311],\n",
      "        ...,\n",
      "        [-0.0011, -0.0204,  0.0235,  ..., -0.0048, -0.0308, -0.0154],\n",
      "        [ 0.0199, -0.0132, -0.0190,  ..., -0.0053, -0.0031,  0.0132],\n",
      "        [ 0.0238,  0.0255, -0.0238,  ...,  0.0339,  0.0031, -0.0011]])\n",
      "\n"
     ]
    }
   ],
   "source": [
    "# lets dequantized the quantized model then compare it's layer1 weights\n",
    "print('Original weights: ')\n",
    "print(model.linear1.weight)\n",
    "print('')\n",
    "print(f'Dequantized weights: ')\n",
    "print(torch.dequantize(quant_model.linear1.weight()))\n",
    "print('')"
   ]
  },
  {
   "cell_type": "code",
   "execution_count": 34,
   "id": "088feda7",
   "metadata": {},
   "outputs": [
    {
     "name": "stdout",
     "output_type": "stream",
     "text": [
      "Model size after quantization\n",
      "Model Size(KB): 95.797\n"
     ]
    }
   ],
   "source": [
    "print(f'Model size after quantization')\n",
    "ModelSize(quant_model)"
   ]
  },
  {
   "cell_type": "code",
   "execution_count": 35,
   "id": "a36cb843",
   "metadata": {},
   "outputs": [
    {
     "name": "stdout",
     "output_type": "stream",
     "text": [
      "Testing model after quantization\n"
     ]
    },
    {
     "name": "stderr",
     "output_type": "stream",
     "text": [
      "Inference Testing: 100%|██████████| 6000/6000 [00:06<00:00, 991.46it/s] "
     ]
    },
    {
     "name": "stdout",
     "output_type": "stream",
     "text": [
      "Model accuracy : 0.097\n"
     ]
    },
    {
     "name": "stderr",
     "output_type": "stream",
     "text": [
      "\n"
     ]
    }
   ],
   "source": [
    "print(f\"Testing model after quantization\")\n",
    "test(quant_model)"
   ]
  }
 ],
 "metadata": {
  "kernelspec": {
   "display_name": "distributedsystems",
   "language": "python",
   "name": "python3"
  },
  "language_info": {
   "codemirror_mode": {
    "name": "ipython",
    "version": 3
   },
   "file_extension": ".py",
   "mimetype": "text/x-python",
   "name": "python",
   "nbconvert_exporter": "python",
   "pygments_lexer": "ipython3",
   "version": "3.13.5"
  }
 },
 "nbformat": 4,
 "nbformat_minor": 5
}
